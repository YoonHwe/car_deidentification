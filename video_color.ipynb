{
 "cells": [
  {
   "cell_type": "markdown",
   "metadata": {},
   "source": [
    "<h1>Line 기법을 통한 색 입히기를 이용한 자동차 번호판 비식별화</h1>"
   ]
  },
  {
   "cell_type": "code",
   "execution_count": 1,
   "metadata": {},
   "outputs": [],
   "source": [
    "import os\n",
    "import cv2\n",
    "import cvlib as cv\n",
    "from cvlib.object_detection import draw_bbox"
   ]
  },
  {
   "cell_type": "code",
   "execution_count": 2,
   "metadata": {},
   "outputs": [],
   "source": [
    "import numpy as np\n",
    "import imutils"
   ]
  },
  {
   "cell_type": "code",
   "execution_count": 3,
   "metadata": {},
   "outputs": [],
   "source": [
    "capture = cv2.VideoCapture(\"/Users/heoyoonhwe/Documents/dss0/sample.avi\")\n",
    "fps = capture.get(cv2.CAP_PROP_FPS)\n",
    "w = round(capture.get(cv2.CAP_PROP_FRAME_WIDTH))\n",
    "h = round(capture.get(cv2.CAP_PROP_FRAME_HEIGHT))\n",
    "fourcc = cv2.VideoWriter_fourcc(*'DIVX')"
   ]
  },
  {
   "cell_type": "code",
   "execution_count": 4,
   "metadata": {},
   "outputs": [],
   "source": [
    "out = cv2.VideoWriter(\"/Users/heoyoonhwe/Documents/dss0/sample_output.avi\", fourcc, fps, (w, h))"
   ]
  },
  {
   "cell_type": "code",
   "execution_count": 5,
   "metadata": {},
   "outputs": [],
   "source": [
    "idx = 0\n",
    "l = int(capture.get(cv2.CAP_PROP_FRAME_COUNT))"
   ]
  },
  {
   "cell_type": "code",
   "execution_count": 6,
   "metadata": {},
   "outputs": [
    {
     "name": "stdout",
     "output_type": "stream",
     "text": [
      "0 / 2469\n",
      "bbox:  [[1554, 103, 2281, 497], [1399, 444, 1984, 997], [408, 1082, 1153, 1751], [1719, 1093, 1942, 1287], [395, 61, 950, 557], [1610, 826, 2275, 1693], [1561, 569, 1686, 690], [831, 1253, 1010, 1442], [1957, 1112, 2145, 1311]]\n",
      "blur_h:  131\n",
      "bbox:  [[1554, 103, 2281, 497], [1399, 444, 1984, 997], [408, 1082, 1153, 1751], [1719, 1093, 1942, 1287], [395, 61, 950, 557], [1610, 826, 2275, 1693], [1561, 569, 1686, 690], [831, 1253, 1010, 1442], [1957, 1112, 2145, 1311]]\n",
      "blur_h:  184\n",
      "bbox:  [[1554, 103, 2281, 497], [1399, 444, 1984, 997], [408, 1082, 1153, 1751], [1719, 1093, 1942, 1287], [395, 61, 950, 557], [1610, 826, 2275, 1693], [1561, 569, 1686, 690], [831, 1253, 1010, 1442], [1957, 1112, 2145, 1311]]\n",
      "blur_h:  223\n",
      "bbox:  [[1554, 103, 2281, 497], [1399, 444, 1984, 997], [408, 1082, 1153, 1751], [1719, 1093, 1942, 1287], [395, 61, 950, 557], [1610, 826, 2275, 1693], [1561, 569, 1686, 690], [831, 1253, 1010, 1442], [1957, 1112, 2145, 1311]]\n",
      "blur_h:  165\n",
      "bbox:  [[1554, 103, 2281, 497], [1399, 444, 1984, 997], [408, 1082, 1153, 1751], [1719, 1093, 1942, 1287], [395, 61, 950, 557], [1610, 826, 2275, 1693], [1561, 569, 1686, 690], [831, 1253, 1010, 1442], [1957, 1112, 2145, 1311]]\n",
      "blur_h:  289\n"
     ]
    }
   ],
   "source": [
    "while capture.isOpened():\n",
    "    if idx % 100 == 0:\n",
    "        print(idx,\"/\", l)\n",
    "        \n",
    "    ret, frame = capture.read()\n",
    "    \n",
    "    if (ret):  #프레임을 제대로 읽었다면\n",
    "        idx += 1 #idx에 1 더함\n",
    "        bbox, label, conf = cv.detect_common_objects(frame)\n",
    "        \n",
    "        for i, cla in enumerate(label):\n",
    "            if cla == 'car' or cla == 'bus' or cla == 'truck': #탐지된 라벨이 car, bus, truck인 경우\n",
    "                deidentification_h = int((bbox[i][3] - bbox[i][1]) * 1/3) #비식별화 처리(replacing image)할 영역 설정\n",
    "                if bbox[i][0] > 0 and bbox[i][1] > 0:\n",
    "                    deidentification_area = frame[bbox[i][3] - deidentification_h:bbox[i][3] + int(deidentification_h/3), bbox[i][0]:bbox[i][2]]\n",
    "                    deidentification_img = cv2.line(deidentification_area, (0,10), (2000, 10), (255,0,0), deidentification_h*2)\n",
    "                    tmp = frame[bbox[i][3] - deidentification_h:bbox[i][3] + int(deidentification_h/3), bbox[i][0]:bbox[i][2]]\n",
    "                    frame[bbox[i][3] - deidentification_h:bbox[i][3] + int(deidentification_h/3), bbox[i][0]:bbox[i][2]] = deidentification_img #output 영상에 해당 img 담기\n",
    "        frame = draw_bbox(frame, bbox, label, conf, write_conf = True)\n",
    "\n",
    "        ##재식별 코드\n",
    "        #deidentification_img = tmp #원본을 임시 저장했던 것을 다시 적용\n",
    "        #frame[bbox[i][3] - deidentification_h:bbox[i][3] + int(deidentification_h/3), bbox[i][0]:bbox[i][2]] = deidentification_img #output 영상에 해당 img 담기\n",
    "        #frame = draw_bbox(frame, bbox, label, conf, write_conf = True)\n",
    "        \n",
    "        # display output\n",
    "        cv2.namedWindow('frame', cv2.WINDOW_NORMAL) #새로운 윈도우 창(frame)을 띄워 내용 넣기 \n",
    "        cv2.resizeWindow('frame', w, h) #프레임 창을 사이즈에 맞게 설정\n",
    "        cv2.imshow(\"frame\", frame) #프레임을 화면에 디스플레이\n",
    "        out.write(frame)  #output 영상에 프레임을 저장\n",
    "        if cv2.waitKey(0) & 0xFF == ord('q'): #영상이 종료되거나 q가 입력되면\n",
    "            break #종료\n",
    "    else: #프레임을 제대로 읽지 못했다면\n",
    "        print(\"프레임 읽지 못함...\")\n",
    "        break #종료"
   ]
  },
  {
   "cell_type": "code",
   "execution_count": 7,
   "metadata": {},
   "outputs": [],
   "source": [
    "out.release()\n",
    "capture.release()\n",
    "cv2.destroyAllWindows()"
   ]
  }
 ],
 "metadata": {
  "kernelspec": {
   "display_name": "Python 3",
   "language": "python",
   "name": "python3"
  },
  "language_info": {
   "codemirror_mode": {
    "name": "ipython",
    "version": 3
   },
   "file_extension": ".py",
   "mimetype": "text/x-python",
   "name": "python",
   "nbconvert_exporter": "python",
   "pygments_lexer": "ipython3",
   "version": "3.8.3"
  }
 },
 "nbformat": 4,
 "nbformat_minor": 4
}
